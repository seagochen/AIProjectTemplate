{
 "cells": [
  {
   "cell_type": "code",
   "execution_count": 1,
   "id": "ed4a5489",
   "metadata": {
    "jupyter": {
     "is_executing": true
    }
   },
   "outputs": [],
   "source": [
    "from common.yolo.yolo_results import Yolo, YoloPose, YoloPoint"
   ]
  },
  {
   "cell_type": "markdown",
   "id": "dbeedf50",
   "metadata": {},
   "source": [
    "### 测试用例 1: `Yolo` 类"
   ]
  },
  {
   "cell_type": "code",
   "execution_count": 2,
   "id": "274cc37737919912",
   "metadata": {},
   "outputs": [],
   "source": [
    "yolo_data = Yolo(lx=10, ly=20, rx=30, ry=40, cls=1, conf=0.95)\n",
    "\n",
    "#### 测试 `to_list` 方法\n",
    "assert yolo_data.to_list() == [10, 20, 30, 40, 1, 0.95], \"Yolo to_list() failed\"\n",
    "\n",
    "#### 测试 `from_list` 方法\n",
    "yolo_from_list = Yolo(0, 0, 0, 0, 0, 0.0)\n",
    "yolo_from_list.from_list([10, 20, 30, 40, 1, 0.95])\n",
    "assert yolo_from_list == yolo_data, \"Yolo from_list() failed\"\n",
    "\n",
    "#### 测试 `to_dict` 和 `from_dict` 方法\n",
    "yolo_dict = yolo_data.to_dict()\n",
    "assert yolo_dict == {\"lx\": 10, \"ly\": 20, \"rx\": 30, \"ry\": 40, \"cls\": 1, \"conf\": 0.95}, \"Yolo to_dict() failed\"\n",
    "\n",
    "yolo_from_dict = Yolo(0, 0, 0, 0, 0, 0.0)\n",
    "yolo_from_dict.from_dict(yolo_dict)\n",
    "assert yolo_from_dict == yolo_data, \"Yolo from_dict() failed\"\n",
    "\n",
    "#### 测试 `to_json` 和 `from_json` 方法\n",
    "yolo_json = yolo_data.to_json()\n",
    "yolo_from_json = Yolo.from_json(yolo_json)\n",
    "assert yolo_from_json == yolo_data, \"Yolo from_json() failed\""
   ]
  },
  {
   "cell_type": "markdown",
   "id": "e8ea91ae",
   "metadata": {},
   "source": [
    "### 测试用例 2: `YoloPoint` 类"
   ]
  },
  {
   "cell_type": "code",
   "execution_count": 3,
   "id": "1b99316d",
   "metadata": {},
   "outputs": [],
   "source": [
    "#### 测试数据\n",
    "point_data = YoloPoint(x=5, y=15, conf=0.9)\n",
    "\n",
    "#### 测试 `to_list` 方法\n",
    "assert point_data.to_list() == [5, 15, 0.9], \"YoloPoint to_list() failed\"\n",
    "\n",
    "#### 测试 `from_list` 方法\n",
    "point_from_list = YoloPoint(0, 0, 0.0)\n",
    "point_from_list.from_list([5, 15, 0.9])\n",
    "assert point_from_list == point_data, \"YoloPoint from_list() failed\"\n",
    "\n",
    "#### 测试 `to_dict` 和 `from_dict` 方法\n",
    "point_dict = point_data.to_dict()\n",
    "assert point_dict == {\"x\": 5, \"y\": 15, \"conf\": 0.9}, \"YoloPoint to_dict() failed\"\n",
    "\n",
    "point_from_dict = YoloPoint(0, 0, 0.0)\n",
    "point_from_dict.from_dict(point_dict)\n",
    "assert point_from_dict == point_data, \"YoloPoint from_dict() failed\"\n",
    "\n",
    "#### 测试 `to_json` 和 `from_json` 方法\n",
    "point_json = point_data.to_json()\n",
    "point_from_json = YoloPoint.from_json(point_json)\n",
    "assert point_from_json == point_data, \"YoloPoint from_json() failed\""
   ]
  },
  {
   "cell_type": "markdown",
   "id": "cb71c2e0",
   "metadata": {},
   "source": [
    "### 测试用例 3: `YoloPose` 类"
   ]
  },
  {
   "cell_type": "code",
   "execution_count": 4,
   "id": "b39defb3",
   "metadata": {},
   "outputs": [],
   "source": [
    "#### 测试数据\n",
    "pose_points = [YoloPoint(x=i, y=i + 1, conf=0.8) for i in range(17)]\n",
    "pose_data = YoloPose(lx=50, ly=60, rx=70, ry=80, cls=0, conf=0.99, pts=pose_points)\n",
    "\n",
    "#### 测试 `to_list` 方法\n",
    "pose_list = pose_data.to_list()\n",
    "expected_pose_list = [50, 60, 70, 80, 0, 0.99, [[i, i + 1, 0.8] for i in range(17)]]\n",
    "assert pose_list == expected_pose_list, \"YoloPose to_list() failed\"\n",
    "\n",
    "#### 测试 `from_list` 方法\n",
    "pose_from_list = YoloPose(0, 0, 0, 0, 0, 0.0)\n",
    "pose_from_list.from_list(expected_pose_list)\n",
    "assert pose_from_list == pose_data, \"YoloPose from_list() failed\"\n",
    "\n",
    "#### 测试 `to_dict` 和 `from_dict` 方法\n",
    "pose_dict = pose_data.to_dict()\n",
    "expected_pose_dict = {\n",
    "    \"lx\": 50, \"ly\": 60, \"rx\": 70, \"ry\": 80, \"cls\": 0, \"conf\": 0.99,\n",
    "    \"pts\": [{\"x\": i, \"y\": i + 1, \"conf\": 0.8} for i in range(17)]\n",
    "}\n",
    "assert pose_dict == expected_pose_dict, \"YoloPose to_dict() failed\"\n",
    "\n",
    "pose_from_dict = YoloPose(0, 0, 0, 0, 0, 0.0)\n",
    "pose_from_dict.from_dict(expected_pose_dict)\n",
    "assert pose_from_dict == pose_data, \"YoloPose from_dict() failed\"\n",
    "\n",
    "#### 测试 `to_json` 和 `from_json` 方法\n",
    "pose_json = pose_data.to_json()\n",
    "pose_from_json = YoloPose.from_json(pose_json)\n",
    "assert pose_from_json == pose_data, \"YoloPose from_json() failed\""
   ]
  },
  {
   "cell_type": "markdown",
   "id": "6f274aab",
   "metadata": {},
   "source": [
    "这些测试用例涵盖了类的所有转换方法 (`to_list`, `from_list`, `to_dict`, `from_dict`, `to_json`, `from_json`) ，并验证它们的正确性。可以将这些代码片段运行以确保功能符合预期。如果所有断言都通过，代码的基本逻辑就没有问题。"
   ]
  }
 ],
 "metadata": {
  "kernelspec": {
   "display_name": "note_ai_cuda11",
   "language": "python",
   "name": "python3"
  },
  "language_info": {
   "codemirror_mode": {
    "name": "ipython",
    "version": 3
   },
   "file_extension": ".py",
   "mimetype": "text/x-python",
   "name": "python",
   "nbconvert_exporter": "python",
   "pygments_lexer": "ipython3",
   "version": "3.10.15"
  }
 },
 "nbformat": 4,
 "nbformat_minor": 5
}
