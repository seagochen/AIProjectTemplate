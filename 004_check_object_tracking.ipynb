{
 "cells": [
  {
   "cell_type": "code",
   "metadata": {
    "ExecuteTime": {
     "end_time": "2024-11-21T01:23:19.703451Z",
     "start_time": "2024-11-21T01:23:16.021673Z"
    }
   },
   "source": [
    "import cv2\n",
    "import torch\n",
    "from ultralytics import YOLO\n",
    "\n",
    "from common.yolo.yolo_results_aux import results_to_pose_list, pose_list_to_numpy\n",
    "from common.yolo.nms import nms_for_yolo_pose\n",
    "from common.tracker.sort_tracker import SortTracker\n",
    "from common.yolo.visualization import draw_sort_bboxes, draw_skeletons_without_bboxes"
   ],
   "outputs": [],
   "execution_count": 1
  },
  {
   "cell_type": "markdown",
   "metadata": {},
   "source": [
    "# Load the model and video"
   ]
  },
  {
   "cell_type": "code",
   "metadata": {
    "ExecuteTime": {
     "end_time": "2024-11-21T01:23:21.340940Z",
     "start_time": "2024-11-21T01:23:19.711240Z"
    }
   },
   "source": [
    "# Load the YOLOv8n-Pose model\n",
    "model = YOLO(\"/opt/models/yolo/yolo11m-pose.pt\")\n",
    "\n",
    "# Test whether the GPU device is available\n",
    "DEVICE = 'cuda' if torch.cuda.is_available() else 'mps' if torch.backends.mps.is_available() else 'cpu'\n",
    "\n",
    "# Move the model to the device\n",
    "model.to(DEVICE)\n",
    "\n",
    "# Open the video file\n",
    "cap = cv2.VideoCapture(\"/opt/videos/raining_street_02.mp4\")\n",
    "if not cap.isOpened():\n",
    "    print(\"Error: Could not open video.\")\n",
    "    exit()"
   ],
   "outputs": [],
   "execution_count": 2
  },
  {
   "cell_type": "markdown",
   "metadata": {},
   "source": [
    "# Run the program"
   ]
  },
  {
   "cell_type": "code",
   "metadata": {
    "ExecuteTime": {
     "end_time": "2024-11-21T01:24:10.547060Z",
     "start_time": "2024-11-21T01:23:21.519626Z"
    }
   },
   "source": [
    "# Define the screen and window dimensions\n",
    "window_width = 1024  # Window width as specified in cv2.resize()\n",
    "window_height = 800  # Window height as specified in cv2.resize()\n",
    "\n",
    "# Create the SORT tracker\n",
    "tracker = SortTracker(max_age=10, min_hits=1, iou_threshold=0.5, max_objects=100)\n",
    "\n",
    "# Set up the display window at (0, 0) position in the top-left corner\n",
    "cv2.namedWindow(\"Frame\", cv2.WINDOW_NORMAL)\n",
    "\n",
    "# Move window to the top-left corner\n",
    "cv2.moveWindow(\"Frame\", 0, 0)\n",
    "\n",
    "# Set the window size to the specified width and height\n",
    "cv2.resizeWindow(\"Frame\", window_width, window_height)\n",
    "\n",
    "# Process the video\n",
    "while True:\n",
    "    ret, frame = cap.read()\n",
    "    if not ret:\n",
    "        break\n",
    "\n",
    "    # Resize the frame\n",
    "    frame = cv2.resize(frame, (460, 460))\n",
    "\n",
    "    # Perform object detection\n",
    "    results = model(frame, verbose=False)[0] # Get the first result\n",
    "\n",
    "    # Use a list to store the detected boxes\n",
    "    dets_data = []\n",
    "\n",
    "    # Process the pose\n",
    "    poses = results_to_pose_list(results)\n",
    "\n",
    "    # Draw the skeletons without the bounding boxes\n",
    "    draw_skeletons_without_bboxes(frame, poses, show_names=False)\n",
    "\n",
    "    # Apply NMS to the poses\n",
    "    poses = nms_for_yolo_pose(poses)\n",
    "\n",
    "    # Convert the list of poses to a numpy array\n",
    "    poses_array = pose_list_to_numpy(poses)\n",
    "\n",
    "    # Perform object tracking\n",
    "    tracked_objects = tracker.update(poses_array)\n",
    "\n",
    "    # Draw the bboxes without labels\n",
    "    draw_sort_bboxes(frame, tracked_objects)\n",
    "\n",
    "    # Display the frame\n",
    "    frame = cv2.resize(frame, (window_width, window_height))\n",
    "    cv2.imshow(\"Frame\", frame)\n",
    "\n",
    "    if cv2.waitKey(10) & 0xFF == ord('q'):\n",
    "        break\n",
    "\n",
    "# Release the video capture object and close the window\n",
    "cap.release()\n",
    "cv2.destroyAllWindows()"
   ],
   "outputs": [],
   "execution_count": 3
  }
 ],
 "metadata": {
  "kernelspec": {
   "display_name": "note_ai_cuda11",
   "language": "python",
   "name": "python3"
  },
  "language_info": {
   "codemirror_mode": {
    "name": "ipython",
    "version": 3
   },
   "file_extension": ".py",
   "mimetype": "text/x-python",
   "name": "python",
   "nbconvert_exporter": "python",
   "pygments_lexer": "ipython3",
   "version": "3.10.15"
  }
 },
 "nbformat": 4,
 "nbformat_minor": 2
}
