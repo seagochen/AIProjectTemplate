{
 "cells": [
  {
   "cell_type": "code",
   "execution_count": null,
   "metadata": {},
   "outputs": [],
   "source": [
    "import cv2\n",
    "import torch\n",
    "from ultralytics import YOLO\n",
    "\n",
    "from common.yolo.yolo_results_aux import results_2_pose_list\n",
    "from common.yolo.nms import nms_for_yolo_pose\n",
    "\n",
    "from common.tracker.sort_tracker import SortTracker"
   ]
  },
  {
   "cell_type": "code",
   "execution_count": null,
   "metadata": {},
   "outputs": [],
   "source": [
    "# Load the YOLOv8n-Pose model\n",
    "model = YOLO(\"/opt/models/yolo/yolov8n-pose.pt\")\n",
    "\n",
    "# Test whether the GPU device is available\n",
    "DEVICE = 'cuda' if torch.cuda.is_available() else 'mps' if torch.backends.mps.is_available() else 'cpu'\n",
    "\n",
    "# Move the model to the device\n",
    "model.to(DEVICE)\n",
    "\n",
    "# Open the video file\n",
    "cap = cv2.VideoCapture(\"/opt/videos/shopping_mall_01.mp4\")\n",
    "if not cap.isOpened():\n",
    "    print(\"Error: Could not open video.\")\n",
    "    exit()"
   ]
  },
  {
   "metadata": {},
   "cell_type": "code",
   "outputs": [],
   "execution_count": null,
   "source": [
    "def draw_bbox(image, filtered_data):\n",
    "    lx, ly, rx, ry = filtered_data[1:5]\n",
    "    color = (0, 255, 0)\n",
    "    cv2.rectangle(image, (int(lx), int(ly)), (int(rx), int(ry)), color, 2)\n",
    "    cv2.putText(image, f\"ID {filtered_data[0]}\", (int(lx), int(ly) - 10), cv2.FONT_HERSHEY_SIMPLEX, 0.9, color, 2)\n",
    "\n",
    "    for i in range(5, len(filtered_data), 3):\n",
    "        x = int(filtered_data[i])\n",
    "        y = int(filtered_data[i + 1])\n",
    "        cv2.circle(image, (x, y), 3, color, -1)\n",
    "\n",
    "    return image"
   ]
  },
  {
   "cell_type": "code",
   "execution_count": null,
   "metadata": {},
   "outputs": [],
   "source": [
    "# Create the SORT tracker\n",
    "tracker = SortTracker(max_age=10, min_hits=1, iou_threshold=0.5)\n",
    "\n",
    "# Process the video\n",
    "while True:\n",
    "    ret, frame = cap.read()\n",
    "    if not ret:\n",
    "        break\n",
    "\n",
    "    # Perform object detection\n",
    "    results = model(frame, verbose=False)[0] # Get the first result\n",
    "\n",
    "    # Use a list to store the detected boxes\n",
    "    dets_data = []\n",
    "\n",
    "    # Process the pose\n",
    "    poses = results_2_pose_list(results)\n",
    "\n",
    "    # Apply NMS to the poses\n",
    "    poses = nms_for_yolo_pose(poses)\n",
    "\n",
    "\n",
    "\n",
    "    # Process the pose keypoints\n",
    "    pose_data = results_2_pose_list(keypoints)\n",
    "\n",
    "    # Perform object tracking\n",
    "    tracked_objects = sort.update(boxes)\n",
    "\n",
    "    # Draw the pose keypoints\n",
    "    for pose in pose_data:\n",
    "        frame = pose.draw(frame)\n",
    "\n",
    "    # Display the frame\n",
    "    cv2.imshow(\"Frame\", frame)\n",
    "\n",
    "    if cv2.waitKey(1) & 0xFF == ord('q'):\n",
    "        break"
   ]
  }
 ],
 "metadata": {
  "kernelspec": {
   "display_name": "note_ai",
   "language": "python",
   "name": "python3"
  },
  "language_info": {
   "codemirror_mode": {
    "name": "ipython",
    "version": 3
   },
   "file_extension": ".py",
   "mimetype": "text/x-python",
   "name": "python",
   "nbconvert_exporter": "python",
   "pygments_lexer": "ipython3",
   "version": "3.10.15"
  }
 },
 "nbformat": 4,
 "nbformat_minor": 2
}
