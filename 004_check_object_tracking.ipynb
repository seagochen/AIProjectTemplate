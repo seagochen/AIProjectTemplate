{
 "cells": [
  {
   "cell_type": "code",
   "execution_count": 1,
   "metadata": {},
   "outputs": [],
   "source": [
    "import cv2\n",
    "import torch\n",
    "from ultralytics import YOLO\n",
    "\n",
    "from common.yolo.yolo_results_aux import results_to_pose_list, pose_list_to_numpy, numpy_to_pose_list\n",
    "from common.yolo.nms import nms_for_yolo_pose\n",
    "from common.tracker.sort_tracker import SortTracker\n",
    "from common.yolo.visualization import draw_bboxes_without_labels"
   ]
  },
  {
   "cell_type": "code",
   "execution_count": 2,
   "metadata": {},
   "outputs": [],
   "source": [
    "# Load the YOLOv8n-Pose model\n",
    "model = YOLO(\"/opt/models/yolo/yolov8n-pose.pt\")\n",
    "\n",
    "# Test whether the GPU device is available\n",
    "DEVICE = 'cuda' if torch.cuda.is_available() else 'mps' if torch.backends.mps.is_available() else 'cpu'\n",
    "\n",
    "# Move the model to the device\n",
    "model.to(DEVICE)\n",
    "\n",
    "# Open the video file\n",
    "cap = cv2.VideoCapture(\"/opt/videos/shopping_mall_01.mp4\")\n",
    "if not cap.isOpened():\n",
    "    print(\"Error: Could not open video.\")\n",
    "    exit()"
   ]
  },
  {
   "cell_type": "code",
   "execution_count": null,
   "metadata": {},
   "outputs": [
    {
     "ename": "KeyboardInterrupt",
     "evalue": "",
     "output_type": "error",
     "traceback": [
      "\u001b[0;31m---------------------------------------------------------------------------\u001b[0m",
      "\u001b[0;31mKeyboardInterrupt\u001b[0m                         Traceback (most recent call last)",
      "Cell \u001b[0;32mIn[3], line 39\u001b[0m\n\u001b[1;32m     36\u001b[0m tracked_objects \u001b[38;5;241m=\u001b[39m tracker\u001b[38;5;241m.\u001b[39mupdate(poses_array)\n\u001b[1;32m     38\u001b[0m \u001b[38;5;66;03m# Convert the numpy array back to a list of poses\u001b[39;00m\n\u001b[0;32m---> 39\u001b[0m poses \u001b[38;5;241m=\u001b[39m \u001b[43mnumpy_to_pose_list\u001b[49m\u001b[43m(\u001b[49m\u001b[43mtracked_objects\u001b[49m\u001b[43m)\u001b[49m\n\u001b[1;32m     41\u001b[0m \u001b[38;5;66;03m# Draw the bboxes without labels\u001b[39;00m\n\u001b[1;32m     42\u001b[0m frame \u001b[38;5;241m=\u001b[39m draw_bboxes_without_labels(frame, poses)\n",
      "File \u001b[0;32m~/Projects/AIProjectTemplate/common/yolo/yolo_results_aux.py:186\u001b[0m, in \u001b[0;36mnumpy_to_pose_list\u001b[0;34m(data)\u001b[0m\n\u001b[1;32m    183\u001b[0m lx, ly, rx, ry, conf, \u001b[38;5;28mcls\u001b[39m, \u001b[38;5;241m=\u001b[39m row[:\u001b[38;5;241m6\u001b[39m]\n\u001b[1;32m    185\u001b[0m \u001b[38;5;66;03m# Extract and reshape keypoints data for each pose\u001b[39;00m\n\u001b[0;32m--> 186\u001b[0m pts_data \u001b[38;5;241m=\u001b[39m \u001b[43mrow\u001b[49m[\u001b[38;5;241m6\u001b[39m:]\u001b[38;5;241m.\u001b[39mreshape(\u001b[38;5;241m-\u001b[39m\u001b[38;5;241m1\u001b[39m, \u001b[38;5;241m3\u001b[39m)  \u001b[38;5;66;03m# Reshape to (17, 3)\u001b[39;00m\n\u001b[1;32m    187\u001b[0m pts \u001b[38;5;241m=\u001b[39m [YoloPoint(x\u001b[38;5;241m=\u001b[39m\u001b[38;5;28mint\u001b[39m(pt[\u001b[38;5;241m0\u001b[39m]), y\u001b[38;5;241m=\u001b[39m\u001b[38;5;28mint\u001b[39m(pt[\u001b[38;5;241m1\u001b[39m]), conf\u001b[38;5;241m=\u001b[39m\u001b[38;5;28mfloat\u001b[39m(pt[\u001b[38;5;241m2\u001b[39m])) \u001b[38;5;28;01mfor\u001b[39;00m pt \u001b[38;5;129;01min\u001b[39;00m pts_data]\n\u001b[1;32m    189\u001b[0m \u001b[38;5;66;03m# Create YoloPose object\u001b[39;00m\n",
      "File \u001b[0;32m~/Projects/AIProjectTemplate/common/yolo/yolo_results_aux.py:186\u001b[0m, in \u001b[0;36mnumpy_to_pose_list\u001b[0;34m(data)\u001b[0m\n\u001b[1;32m    183\u001b[0m lx, ly, rx, ry, conf, \u001b[38;5;28mcls\u001b[39m, \u001b[38;5;241m=\u001b[39m row[:\u001b[38;5;241m6\u001b[39m]\n\u001b[1;32m    185\u001b[0m \u001b[38;5;66;03m# Extract and reshape keypoints data for each pose\u001b[39;00m\n\u001b[0;32m--> 186\u001b[0m pts_data \u001b[38;5;241m=\u001b[39m \u001b[43mrow\u001b[49m[\u001b[38;5;241m6\u001b[39m:]\u001b[38;5;241m.\u001b[39mreshape(\u001b[38;5;241m-\u001b[39m\u001b[38;5;241m1\u001b[39m, \u001b[38;5;241m3\u001b[39m)  \u001b[38;5;66;03m# Reshape to (17, 3)\u001b[39;00m\n\u001b[1;32m    187\u001b[0m pts \u001b[38;5;241m=\u001b[39m [YoloPoint(x\u001b[38;5;241m=\u001b[39m\u001b[38;5;28mint\u001b[39m(pt[\u001b[38;5;241m0\u001b[39m]), y\u001b[38;5;241m=\u001b[39m\u001b[38;5;28mint\u001b[39m(pt[\u001b[38;5;241m1\u001b[39m]), conf\u001b[38;5;241m=\u001b[39m\u001b[38;5;28mfloat\u001b[39m(pt[\u001b[38;5;241m2\u001b[39m])) \u001b[38;5;28;01mfor\u001b[39;00m pt \u001b[38;5;129;01min\u001b[39;00m pts_data]\n\u001b[1;32m    189\u001b[0m \u001b[38;5;66;03m# Create YoloPose object\u001b[39;00m\n",
      "File \u001b[0;32m_pydevd_bundle\\\\pydevd_cython.pyx:1698\u001b[0m, in \u001b[0;36m_pydevd_bundle.pydevd_cython.SafeCallWrapper.__call__\u001b[0;34m()\u001b[0m\n",
      "File \u001b[0;32m_pydevd_bundle\\\\pydevd_cython.pyx:636\u001b[0m, in \u001b[0;36m_pydevd_bundle.pydevd_cython.PyDBFrame.trace_dispatch\u001b[0;34m()\u001b[0m\n",
      "File \u001b[0;32m_pydevd_bundle\\\\pydevd_cython.pyx:1113\u001b[0m, in \u001b[0;36m_pydevd_bundle.pydevd_cython.PyDBFrame.trace_dispatch\u001b[0;34m()\u001b[0m\n",
      "File \u001b[0;32m_pydevd_bundle\\\\pydevd_cython.pyx:1091\u001b[0m, in \u001b[0;36m_pydevd_bundle.pydevd_cython.PyDBFrame.trace_dispatch\u001b[0;34m()\u001b[0m\n",
      "File \u001b[0;32m_pydevd_bundle\\\\pydevd_cython.pyx:496\u001b[0m, in \u001b[0;36m_pydevd_bundle.pydevd_cython.PyDBFrame.do_wait_suspend\u001b[0;34m()\u001b[0m\n",
      "File \u001b[0;32m~/miniconda3/envs/note_ai/lib/python3.10/site-packages/debugpy/_vendored/pydevd/pydevd.py:2197\u001b[0m, in \u001b[0;36mPyDB.do_wait_suspend\u001b[0;34m(self, thread, frame, event, arg, exception_type)\u001b[0m\n\u001b[1;32m   2194\u001b[0m             from_this_thread\u001b[38;5;241m.\u001b[39mappend(frame_custom_thread_id)\n\u001b[1;32m   2196\u001b[0m     \u001b[38;5;28;01mwith\u001b[39;00m \u001b[38;5;28mself\u001b[39m\u001b[38;5;241m.\u001b[39m_threads_suspended_single_notification\u001b[38;5;241m.\u001b[39mnotify_thread_suspended(thread_id, thread, stop_reason):\n\u001b[0;32m-> 2197\u001b[0m         keep_suspended \u001b[38;5;241m=\u001b[39m \u001b[38;5;28;43mself\u001b[39;49m\u001b[38;5;241;43m.\u001b[39;49m\u001b[43m_do_wait_suspend\u001b[49m\u001b[43m(\u001b[49m\u001b[43mthread\u001b[49m\u001b[43m,\u001b[49m\u001b[43m \u001b[49m\u001b[43mframe\u001b[49m\u001b[43m,\u001b[49m\u001b[43m \u001b[49m\u001b[43mevent\u001b[49m\u001b[43m,\u001b[49m\u001b[43m \u001b[49m\u001b[43marg\u001b[49m\u001b[43m,\u001b[49m\u001b[43m \u001b[49m\u001b[43mtrace_suspend_type\u001b[49m\u001b[43m,\u001b[49m\u001b[43m \u001b[49m\u001b[43mfrom_this_thread\u001b[49m\u001b[43m,\u001b[49m\u001b[43m \u001b[49m\u001b[43mframes_tracker\u001b[49m\u001b[43m)\u001b[49m\n\u001b[1;32m   2199\u001b[0m frames_list \u001b[38;5;241m=\u001b[39m \u001b[38;5;28;01mNone\u001b[39;00m\n\u001b[1;32m   2201\u001b[0m \u001b[38;5;28;01mif\u001b[39;00m keep_suspended:\n\u001b[1;32m   2202\u001b[0m     \u001b[38;5;66;03m# This means that we should pause again after a set next statement.\u001b[39;00m\n",
      "File \u001b[0;32m~/miniconda3/envs/note_ai/lib/python3.10/site-packages/debugpy/_vendored/pydevd/pydevd.py:2266\u001b[0m, in \u001b[0;36mPyDB._do_wait_suspend\u001b[0;34m(self, thread, frame, event, arg, trace_suspend_type, from_this_thread, frames_tracker)\u001b[0m\n\u001b[1;32m   2263\u001b[0m                 queue\u001b[38;5;241m.\u001b[39mput(internal_cmd)\n\u001b[1;32m   2264\u001b[0m                 wait_timeout \u001b[38;5;241m=\u001b[39m TIMEOUT_FAST\n\u001b[0;32m-> 2266\u001b[0m         \u001b[43mnotify_event\u001b[49m\u001b[38;5;241;43m.\u001b[39;49m\u001b[43mwait\u001b[49m\u001b[43m(\u001b[49m\u001b[43mwait_timeout\u001b[49m\u001b[43m)\u001b[49m\n\u001b[1;32m   2267\u001b[0m         notify_event\u001b[38;5;241m.\u001b[39mclear()\n\u001b[1;32m   2269\u001b[0m \u001b[38;5;28;01mfinally\u001b[39;00m:\n",
      "File \u001b[0;32m~/miniconda3/envs/note_ai/lib/python3.10/threading.py:607\u001b[0m, in \u001b[0;36mEvent.wait\u001b[0;34m(self, timeout)\u001b[0m\n\u001b[1;32m    605\u001b[0m signaled \u001b[38;5;241m=\u001b[39m \u001b[38;5;28mself\u001b[39m\u001b[38;5;241m.\u001b[39m_flag\n\u001b[1;32m    606\u001b[0m \u001b[38;5;28;01mif\u001b[39;00m \u001b[38;5;129;01mnot\u001b[39;00m signaled:\n\u001b[0;32m--> 607\u001b[0m     signaled \u001b[38;5;241m=\u001b[39m \u001b[38;5;28;43mself\u001b[39;49m\u001b[38;5;241;43m.\u001b[39;49m\u001b[43m_cond\u001b[49m\u001b[38;5;241;43m.\u001b[39;49m\u001b[43mwait\u001b[49m\u001b[43m(\u001b[49m\u001b[43mtimeout\u001b[49m\u001b[43m)\u001b[49m\n\u001b[1;32m    608\u001b[0m \u001b[38;5;28;01mreturn\u001b[39;00m signaled\n",
      "File \u001b[0;32m~/miniconda3/envs/note_ai/lib/python3.10/threading.py:324\u001b[0m, in \u001b[0;36mCondition.wait\u001b[0;34m(self, timeout)\u001b[0m\n\u001b[1;32m    322\u001b[0m \u001b[38;5;28;01melse\u001b[39;00m:\n\u001b[1;32m    323\u001b[0m     \u001b[38;5;28;01mif\u001b[39;00m timeout \u001b[38;5;241m>\u001b[39m \u001b[38;5;241m0\u001b[39m:\n\u001b[0;32m--> 324\u001b[0m         gotit \u001b[38;5;241m=\u001b[39m \u001b[43mwaiter\u001b[49m\u001b[38;5;241;43m.\u001b[39;49m\u001b[43macquire\u001b[49m\u001b[43m(\u001b[49m\u001b[38;5;28;43;01mTrue\u001b[39;49;00m\u001b[43m,\u001b[49m\u001b[43m \u001b[49m\u001b[43mtimeout\u001b[49m\u001b[43m)\u001b[49m\n\u001b[1;32m    325\u001b[0m     \u001b[38;5;28;01melse\u001b[39;00m:\n\u001b[1;32m    326\u001b[0m         gotit \u001b[38;5;241m=\u001b[39m waiter\u001b[38;5;241m.\u001b[39macquire(\u001b[38;5;28;01mFalse\u001b[39;00m)\n",
      "\u001b[0;31mKeyboardInterrupt\u001b[0m: "
     ]
    }
   ],
   "source": [
    "# Define the screen and window dimensions\n",
    "screen_width = 1920  # Replace with actual screen width\n",
    "screen_height = 1080  # Replace with actual screen height\n",
    "window_width = 800  # Window width as specified in cv2.resize()\n",
    "window_height = 600  # Window height as specified in cv2.resize()\n",
    "\n",
    "# Create the SORT tracker\n",
    "tracker = SortTracker(max_age=10, min_hits=1, iou_threshold=0.5)\n",
    "\n",
    "# Set up the display window and position it at the bottom-right corner\n",
    "cv2.namedWindow(\"Frame\", cv2.WINDOW_NORMAL)\n",
    "cv2.moveWindow(\"Frame\", screen_width - window_width, screen_height - window_height)\n",
    "\n",
    "# Process the video\n",
    "while True:\n",
    "    ret, frame = cap.read()\n",
    "    if not ret:\n",
    "        break\n",
    "\n",
    "    # Perform object detection\n",
    "    results = model(frame, verbose=False)[0] # Get the first result\n",
    "\n",
    "    # Use a list to store the detected boxes\n",
    "    dets_data = []\n",
    "\n",
    "    # Process the pose\n",
    "    poses = results_to_pose_list(results)\n",
    "\n",
    "    # Apply NMS to the poses\n",
    "    poses = nms_for_yolo_pose(poses)\n",
    "\n",
    "    # Convert the list of poses to a numpy array\n",
    "    poses_array = pose_list_to_numpy(poses)\n",
    "\n",
    "    # Perform object tracking\n",
    "    tracked_objects = tracker.update(poses_array)\n",
    "\n",
    "    # Draw the bboxes without labels\n",
    "    frame = draw_bboxes_without_labels(frame, poses)\n",
    "\n",
    "    # Display the frame\n",
    "    frame = cv2.resize(frame, (window_width, window_height))\n",
    "    cv2.imshow(\"Frame\", frame)\n",
    "\n",
    "    if cv2.waitKey(1) & 0xFF == ord('q'):\n",
    "        break\n",
    "\n",
    "# Release the video capture object and close the window\n",
    "cap.release()\n",
    "cv2.destroyAllWindows()"
   ]
  }
 ],
 "metadata": {
  "kernelspec": {
   "display_name": "note_ai",
   "language": "python",
   "name": "python3"
  },
  "language_info": {
   "codemirror_mode": {
    "name": "ipython",
    "version": 3
   },
   "file_extension": ".py",
   "mimetype": "text/x-python",
   "name": "python",
   "nbconvert_exporter": "python",
   "pygments_lexer": "ipython3",
   "version": "3.10.15"
  }
 },
 "nbformat": 4,
 "nbformat_minor": 2
}
