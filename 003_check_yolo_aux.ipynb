{
 "cells": [
  {
   "cell_type": "code",
   "execution_count": null,
   "metadata": {},
   "outputs": [
    {
     "name": "stdout",
     "output_type": "stream",
     "text": [
      "All tests passed.\n"
     ]
    }
   ],
   "source": [
    "import numpy as np\n",
    "from common.yolo.yolo_results import Yolo, YoloPose, YoloPoint\n",
    "from common.yolo.yolo_results_aux import yolo_list_to_numpy, pose_list_to_numpy, numpy_to_yolo_list, numpy_to_pose_list"
   ]
  },
  {
   "cell_type": "markdown",
   "metadata": {},
   "source": [
    "# Unit tests"
   ]
  },
  {
   "cell_type": "code",
   "execution_count": null,
   "metadata": {},
   "outputs": [],
   "source": [
    "# Test Cases for `yolo_list_to_numpy`\n",
    "def test_yolo_list_to_numpy():\n",
    "    yolo_list = [\n",
    "        Yolo(lx=10, ly=20, rx=30, ry=40, cls=1, conf=0.95),\n",
    "        Yolo(lx=15, ly=25, rx=35, ry=45, cls=2, conf=0.85)\n",
    "    ]\n",
    "    # Adjusted order: [x1, y1, x2, y2, conf, cls]\n",
    "    expected_array = np.array([\n",
    "        [10, 20, 30, 40, 0.95, 1],\n",
    "        [15, 25, 35, 45, 0.85, 2]\n",
    "    ])\n",
    "    result_array = yolo_list_to_numpy(yolo_list)\n",
    "    assert np.array_equal(result_array, expected_array), \"yolo_list_to_numpy() failed\"\n",
    "\n",
    "# Test Cases for `pose_list_to_numpy`\n",
    "def test_pose_list_to_numpy():\n",
    "    pose_points1 = [YoloPoint(x=i, y=i + 1, conf=0.8) for i in range(17)]\n",
    "    pose_points2 = [YoloPoint(x=i + 1, y=i + 2, conf=0.7) for i in range(17)]\n",
    "    \n",
    "    pose_list = [\n",
    "        YoloPose(lx=50, ly=60, rx=70, ry=80, cls=1, conf=0.99, pts=pose_points1),\n",
    "        YoloPose(lx=55, ly=65, rx=75, ry=85, cls=2, conf=0.95, pts=pose_points2)\n",
    "    ]\n",
    "    \n",
    "    # Adjusted order: [x1, y1, x2, y2, conf, cls] followed by flattened keypoints\n",
    "    expected_array = np.array([\n",
    "        [50, 60, 70, 80, 0.99, 1] + [val for pt in pose_points1 for val in pt.to_list()],\n",
    "        [55, 65, 75, 85, 0.95, 2] + [val for pt in pose_points2 for val in pt.to_list()]\n",
    "    ])\n",
    "    \n",
    "    result_array = pose_list_to_numpy(pose_list)\n",
    "    assert np.array_equal(result_array, expected_array), \"pose_list_to_numpy() failed\"\n",
    "\n",
    "\n",
    "# Test Cases for `numpy_to_yolo_list`\n",
    "def test_numpy_to_yolo_list():\n",
    "    input_array = np.array([\n",
    "        [10, 20, 30, 40, 0.95, 1],\n",
    "        [15, 25, 35, 45, 0.85, 2]\n",
    "    ])\n",
    "    expected_yolo_list = [\n",
    "        Yolo(lx=10, ly=20, rx=30, ry=40, cls=1, conf=0.95),\n",
    "        Yolo(lx=15, ly=25, rx=35, ry=45, cls=2, conf=0.85)\n",
    "    ]\n",
    "    result_yolo_list = numpy_to_yolo_list(input_array)\n",
    "    assert result_yolo_list == expected_yolo_list, \"numpy_to_yolo_list() failed\"\n",
    "\n",
    "# Test Cases for `numpy_to_pose_list`\n",
    "def test_numpy_to_pose_list():\n",
    "    # Input array in fully flattened structure with new order\n",
    "    input_array = np.array([\n",
    "        [50, 60, 70, 80, 0.99, 1] + [coord for i in range(17) for coord in (i, i + 1, 0.8)],\n",
    "        [55, 65, 75, 85, 0.95, 2] + [coord for i in range(17) for coord in (i + 1, i + 2, 0.7)]\n",
    "    ])\n",
    "    \n",
    "    # Expected YoloPose object lists with keypoints as YoloPoint objects\n",
    "    pose_points1 = [YoloPoint(x=i, y=i + 1, conf=0.8) for i in range(17)]\n",
    "    pose_points2 = [YoloPoint(x=i + 1, y=i + 2, conf=0.7) for i in range(17)]\n",
    "    \n",
    "    expected_pose_list = [\n",
    "        YoloPose(lx=50, ly=60, rx=70, ry=80, cls=1, conf=0.99, pts=pose_points1),\n",
    "        YoloPose(lx=55, ly=65, rx=75, ry=85, cls=2, conf=0.95, pts=pose_points2)\n",
    "    ]\n",
    "    \n",
    "    # Run the conversion function and check if the output matches the expected list\n",
    "    result_pose_list = numpy_to_pose_list(input_array)\n",
    "    assert result_pose_list == expected_pose_list, \"numpy_to_pose_list() failed\"\n",
    "\n",
    "# Run tests\n",
    "test_yolo_list_to_numpy()\n",
    "test_pose_list_to_numpy()\n",
    "test_numpy_to_yolo_list()\n",
    "test_numpy_to_pose_list()\n",
    "print(\"All tests passed.\")"
   ]
  },
  {
   "cell_type": "markdown",
   "metadata": {},
   "source": [
    "\n",
    "Each test verifies the following:\n",
    "1. **`yolo_list_to_numpy`**: Converts a list of `Yolo` objects to a numpy array.\n",
    "2. **`pose_list_to_numpy`**: Converts a list of `YoloPose` objects to a numpy array.\n",
    "3. **`numpy_to_yolo_list`**: Converts a numpy array back to a list of `Yolo` objects.\n",
    "4. **`numpy_to_pose_list`**: Converts a numpy array back to a list of `YoloPose` objects.\n",
    "\n",
    "If all assertions pass, the output will confirm that each function operates as expected."
   ]
  }
 ],
 "metadata": {
  "kernelspec": {
   "display_name": "note_ai",
   "language": "python",
   "name": "python3"
  },
  "language_info": {
   "codemirror_mode": {
    "name": "ipython",
    "version": 3
   },
   "file_extension": ".py",
   "mimetype": "text/x-python",
   "name": "python",
   "nbconvert_exporter": "python",
   "pygments_lexer": "ipython3",
   "version": "3.10.15"
  }
 },
 "nbformat": 4,
 "nbformat_minor": 2
}
